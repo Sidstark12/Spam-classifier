{
  "cells": [
    {
      "cell_type": "markdown",
      "metadata": {
        "id": "RKyhtetZYQpp"
      },
      "source": [
        "## Spam/Ham classifcation using NLP"
      ]
    },
    {
      "cell_type": "code",
      "execution_count": null,
      "metadata": {
        "id": "iyctkVz_YQpv"
      },
      "outputs": [],
      "source": [
        "# the first cell includes the libraries we'll be using for making the model"
      ]
    },
    {
      "cell_type": "code",
      "execution_count": null,
      "metadata": {
        "id": "AOhkyPluYQpx"
      },
      "outputs": [],
      "source": [
        "import nltk\n",
        "import pandas as pd\n",
        "import numpy as np"
      ]
    },
    {
      "cell_type": "code",
      "execution_count": null,
      "metadata": {
        "id": "aHbxsWI-YQpy",
        "outputId": "bf01492c-599c-4e1f-f7b0-6dded007c7dc"
      },
      "outputs": [
        {
          "data": {
            "text/html": [
              "<div>\n",
              "<style scoped>\n",
              "    .dataframe tbody tr th:only-of-type {\n",
              "        vertical-align: middle;\n",
              "    }\n",
              "\n",
              "    .dataframe tbody tr th {\n",
              "        vertical-align: top;\n",
              "    }\n",
              "\n",
              "    .dataframe thead th {\n",
              "        text-align: right;\n",
              "    }\n",
              "</style>\n",
              "<table border=\"1\" class=\"dataframe\">\n",
              "  <thead>\n",
              "    <tr style=\"text-align: right;\">\n",
              "      <th></th>\n",
              "      <th>labels</th>\n",
              "      <th>body_text</th>\n",
              "    </tr>\n",
              "  </thead>\n",
              "  <tbody>\n",
              "    <tr>\n",
              "      <th>0</th>\n",
              "      <td>ham</td>\n",
              "      <td>I've been searching for the right words to tha...</td>\n",
              "    </tr>\n",
              "    <tr>\n",
              "      <th>1</th>\n",
              "      <td>spam</td>\n",
              "      <td>Free entry in 2 a wkly comp to win FA Cup fina...</td>\n",
              "    </tr>\n",
              "    <tr>\n",
              "      <th>2</th>\n",
              "      <td>ham</td>\n",
              "      <td>Nah I don't think he goes to usf, he lives aro...</td>\n",
              "    </tr>\n",
              "    <tr>\n",
              "      <th>3</th>\n",
              "      <td>ham</td>\n",
              "      <td>Even my brother is not like to speak with me. ...</td>\n",
              "    </tr>\n",
              "    <tr>\n",
              "      <th>4</th>\n",
              "      <td>ham</td>\n",
              "      <td>I HAVE A DATE ON SUNDAY WITH WILL!!</td>\n",
              "    </tr>\n",
              "  </tbody>\n",
              "</table>\n",
              "</div>"
            ],
            "text/plain": [
              "  labels                                          body_text\n",
              "0    ham  I've been searching for the right words to tha...\n",
              "1   spam  Free entry in 2 a wkly comp to win FA Cup fina...\n",
              "2    ham  Nah I don't think he goes to usf, he lives aro...\n",
              "3    ham  Even my brother is not like to speak with me. ...\n",
              "4    ham                I HAVE A DATE ON SUNDAY WITH WILL!!"
            ]
          },
          "execution_count": 29,
          "metadata": {},
          "output_type": "execute_result"
        }
      ],
      "source": [
        "msgs_dataset = pd.read_csv('SMSSpamCollection.tsv',sep =\"\\t\",header = None)\n",
        "msgs_dataset.columns = ['labels','body_text']\n",
        "msgs_dataset.head()"
      ]
    },
    {
      "cell_type": "code",
      "execution_count": null,
      "metadata": {
        "id": "-QScLsjfYQp0"
      },
      "outputs": [],
      "source": [
        "# now we'll preprocess the data provided to us which includes\n",
        "#removing punctuations, tokenization,removing stopwords,\n",
        "#lemmatizing and stemming"
      ]
    },
    {
      "cell_type": "code",
      "execution_count": null,
      "metadata": {
        "id": "XLiTmWijYQp0"
      },
      "outputs": [],
      "source": [
        "# function made for removing punctuations\n",
        "import string \n",
        "\n",
        "def no_punct(txt):\n",
        "    txt_nopunct = \"\".join([char for char in txt if char not in string.punctuation ])\n",
        "    return txt_nopunct\n",
        "\n",
        "msgs_dataset['body_text_clean'] = msgs_dataset['body_text'].apply(lambda x:no_punct(x))\n",
        "\n"
      ]
    },
    {
      "cell_type": "code",
      "execution_count": null,
      "metadata": {
        "id": "rvSm457QYQp1"
      },
      "outputs": [],
      "source": [
        "# function for tokenising the non punctuated texts\n",
        "import re\n",
        "\n",
        "def tokenise(txt):\n",
        "    tokens = re.split('\\W',txt)\n",
        "    return tokens\n",
        "\n",
        "msgs_dataset['body_text_tokenised'] = msgs_dataset['body_text_clean'].apply(lambda x:tokenise(x.lower()))\n",
        "\n"
      ]
    },
    {
      "cell_type": "code",
      "execution_count": null,
      "metadata": {
        "id": "6eU-wPuiYQp2",
        "outputId": "36a14677-7cd0-42d4-c697-1df03f65a254"
      },
      "outputs": [
        {
          "name": "stderr",
          "output_type": "stream",
          "text": [
            "[nltk_data] Downloading package stopwords to\n",
            "[nltk_data]     C:\\Users\\HP\\AppData\\Roaming\\nltk_data...\n",
            "[nltk_data]   Package stopwords is already up-to-date!\n"
          ]
        }
      ],
      "source": [
        "# function that remove the stopwords\n",
        "nltk.download('stopwords')\n",
        "from nltk.corpus import stopwords\n",
        "stopwords = stopwords.words('english')\n",
        "\n",
        "def remove_stopwords(tokenised_list):\n",
        "    txt=[word for word in tokenised_list if word not in stopwords]\n",
        "    return txt\n",
        "\n",
        "msgs_dataset['body_text_nostopword']=msgs_dataset['body_text_tokenised'].apply(lambda x:remove_stopwords(x))\n"
      ]
    },
    {
      "cell_type": "code",
      "execution_count": null,
      "metadata": {
        "id": "xr1Is8DBYQp4"
      },
      "outputs": [],
      "source": [
        "# function used for stemming \n",
        "ps = nltk.PorterStemmer()\n",
        "def stemming(tokenised_txt):\n",
        "    txt = [ps.stem(word) for word in tokenised_txt]\n",
        "    return txt\n",
        "\n",
        "msgs_dataset['body_text_stemmed'] = msgs_dataset['body_text_nostopword'].apply(lambda x: stemming(x))\n",
        "\n"
      ]
    },
    {
      "cell_type": "code",
      "execution_count": null,
      "metadata": {
        "id": "w5RoI--KYQp5",
        "outputId": "edcbc04e-f0fb-4a7b-b808-41c54b3a113c"
      },
      "outputs": [
        {
          "name": "stderr",
          "output_type": "stream",
          "text": [
            "[nltk_data] Downloading package wordnet to\n",
            "[nltk_data]     C:\\Users\\HP\\AppData\\Roaming\\nltk_data...\n",
            "[nltk_data]   Package wordnet is already up-to-date!\n"
          ]
        }
      ],
      "source": [
        "# function used for lemmatising\n",
        "nltk.download('wordnet')\n",
        "from nltk.stem import WordNetLemmatizer\n",
        "wn = nltk.WordNetLemmatizer()\n",
        "\n",
        "def lemmatising(tokenised_txt):\n",
        "    txt = [wn.lemmatize(word) for word in tokenised_txt]\n",
        "    return txt\n",
        "\n",
        "msgs_dataset['body_text_lemmatised'] = msgs_dataset['body_text_nostopword'].apply(lambda x:lemmatising(x))"
      ]
    },
    {
      "cell_type": "code",
      "execution_count": null,
      "metadata": {
        "id": "Wd9NlnFWYQp5"
      },
      "outputs": [],
      "source": [
        "# remove the sentence below from the comment box to see the output till now\n",
        "# msgs_dataset.head()"
      ]
    },
    {
      "cell_type": "code",
      "execution_count": null,
      "metadata": {
        "id": "GsSdmguHYQp6"
      },
      "outputs": [],
      "source": [
        "# now we have to vectorise the data\n",
        "\n",
        "from sklearn.feature_extraction.text import CountVectorizer\n",
        "\n",
        "def clean_txt(txt):\n",
        "    txt = \"\".join([word.lower() for word in txt if word not in string.punctuation])\n",
        "    tokens =re.split('\\W',txt)\n",
        "    txt = [ps.stem(word) for word in tokens if word not in stopwords]\n",
        "    return txt\n",
        "\n",
        "count_vect=CountVectorizer(analyzer=clean_txt)\n",
        "X_count=count_vect.fit_transform(msgs_dataset['body_text'])\n",
        "\n",
        "#smaller sample data is to be used\n",
        "\n",
        "sample_data = msgs_dataset[0:20]\n",
        "count_vect_sample =CountVectorizer(analyzer=clean_txt)\n",
        "sample_x_count=count_vect_sample.fit_transform(sample_data['body_text'])\n",
        "# print(sample_x_count.shape)\n",
        "\n",
        "x_counts_df = pd.DataFrame(sample_x_count.toarray())\n",
        "# x_counts_df\n",
        "\n",
        "x_counts_df.columns = count_vect_sample.get_feature_names()\n",
        "# x_counts_df\n"
      ]
    },
    {
      "cell_type": "code",
      "execution_count": null,
      "metadata": {
        "id": "2RkDV40XYQp7"
      },
      "outputs": [],
      "source": [
        "# now we compute TF-IDF for th3 given data\n",
        "# TF-IDF consists of 2 terms:\n",
        "# TF- term frequency: which measures how frequently a term occurs in a document\n",
        "# IDF- measures how important a term is\n",
        "\n",
        "from sklearn.feature_extraction.text import TfidfVectorizer\n",
        "\n",
        "tfidf_vect= TfidfVectorizer(analyzer=clean_txt)\n",
        "x_tfidf=tfidf_vect.fit_transform(msgs_dataset['body_text'])\n",
        "# print(x_tfidf.shape)\n",
        "\n",
        "# same for sample data\n",
        "sample_data=msgs_dataset[0:20]\n",
        "\n",
        "tfidf_vect_sample=TfidfVectorizer(analyzer=clean_txt)\n",
        "x_tfidf_sample=tfidf_vect_sample.fit_transform(sample_data['body_text'])\n",
        "\n",
        "#print(X_tfidf_sample.shape)\n",
        "\n",
        "x_tfidf_df =pd.DataFrame(x_tfidf_sample.toarray())\n",
        "x_tfidf_df.columns = tfidf_vect_sample.get_feature_names()\n",
        "# x_tfidf_df"
      ]
    },
    {
      "cell_type": "code",
      "execution_count": null,
      "metadata": {
        "id": "lAyWBEnYYQp8"
      },
      "outputs": [],
      "source": [
        "# now we create a test model"
      ]
    },
    {
      "cell_type": "code",
      "execution_count": null,
      "metadata": {
        "id": "XjCmTPc9YQp8"
      },
      "outputs": [],
      "source": [
        "# as all features are represented as vectors now, we can train our spam/ham classifier\n",
        "# we'lll use feature creation \n",
        "\n",
        "msgs_dataset= pd.read_csv('SMSSpamCollection.tsv', sep=\"\\t\",header=None)\n",
        "\n",
        "msgs_dataset.columns=['label','body_text']\n",
        "msgs_dataset[\"body_len\"]= msgs_dataset[\"body_text\"].apply(lambda x:len(x)-x.count(\" \"))\n",
        "\n",
        "# the function below is created to count the punctuaion percentage in the message\n",
        "def count_punct(text):\n",
        "    count=sum([1 for char in text if char in string.punctuation])\n",
        "    return round(count/(len(text)-text.count(\" \")),3)*100\n",
        "\n",
        "msgs_dataset[\"punct%\"]= msgs_dataset['body_text'].apply(lambda x:count_punct(x))\n"
      ]
    },
    {
      "cell_type": "code",
      "execution_count": null,
      "metadata": {
        "id": "Xl2XcbBNYQp9",
        "outputId": "72ebd79a-b8be-4489-af0c-cbfff16109fe"
      },
      "outputs": [
        {
          "data": {
            "image/png": "[encoded data removed]",
            "text/plain": [
              "<Figure size 432x288 with 1 Axes>"
            ]
          },
          "metadata": {
            "needs_background": "light"
          },
          "output_type": "display_data"
        },
        {
          "data": {
            "image/png": "[encoded data removed]",
            "text/plain": [
              "<Figure size 432x288 with 1 Axes>"
            ]
          },
          "metadata": {
            "needs_background": "light"
          },
          "output_type": "display_data"
        }
      ],
      "source": [
        "import matplotlib.pyplot as plt \n",
        "import numpy as np\n",
        "\n",
        "bins=np.linspace(0,200,40)\n",
        "\n",
        "plt.hist(msgs_dataset['body_len'],bins)\n",
        "plt.title('Body Length Distribution')\n",
        "plt.show()\n",
        "\n",
        "bins=np.linspace(0,50,40)\n",
        "\n",
        "plt.hist(msgs_dataset['punct%'],bins)\n",
        "plt.title('Punctuation % Distribution')\n",
        "plt.show()"
      ]
    },
    {
      "cell_type": "code",
      "execution_count": null,
      "metadata": {
        "id": "PsjaLorRYQp9"
      },
      "outputs": [],
      "source": [
        ""
      ]
    }
  ],
  "metadata": {
    "kernelspec": {
      "display_name": "Python 3",
      "language": "python",
      "name": "python3"
    },
    "language_info": {
      "codemirror_mode": {
        "name": "ipython",
        "version": 3
      },
      "file_extension": ".py",
      "mimetype": "text/x-python",
      "name": "python",
      "nbconvert_exporter": "python",
      "pygments_lexer": "ipython3",
      "version": "3.8.5"
    },
    "colab": {
      "name": "Spam classifier using NLP.ipynb",
      "provenance": []
    }
  },
  "nbformat": 4,
  "nbformat_minor": 0
}